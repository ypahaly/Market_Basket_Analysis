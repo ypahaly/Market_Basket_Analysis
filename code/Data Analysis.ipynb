{
 "cells": [
  {
   "cell_type": "markdown",
   "metadata": {},
   "source": [
    "# Data Analysis - Instakart"
   ]
  },
  {
   "cell_type": "markdown",
   "metadata": {},
   "source": [
    "Before carrying out MBA on the given dataset, we can study the given dataset, its attributes and summarize the dataset for a better understanding."
   ]
  },
  {
   "cell_type": "code",
   "execution_count": 2,
   "metadata": {},
   "outputs": [],
   "source": [
    "#imports\n",
    "import pandas as pd #Python data analysis library\n",
    "import numpy as np #Python scientific computing\n",
    "import matplotlib.pyplot as plt #For plotting\n",
    "import matplotlib.mlab as mlab\n",
    "import seaborn as sns #Python visualization library\n",
    "from scipy.optimize import curve_fit\n",
    "from IPython.display import display, HTML\n",
    "\n",
    "#Plots inline\n",
    "%matplotlib inline"
   ]
  },
  {
   "cell_type": "markdown",
   "metadata": {},
   "source": [
    "Citation - “The Instacart Online Grocery Shopping Dataset 2017”, Accessed from https://www.instacart.com/datasets/grocery-shopping-2017\""
   ]
  },
  {
   "cell_type": "code",
   "execution_count": 3,
   "metadata": {},
   "outputs": [],
   "source": [
    "#import dataset\n",
    "trainDf = pd.read_csv(\"../data/raw/order_products__train.csv\")\n",
    "orderDf = pd.read_csv(\"../data/raw/orders.csv\")\n",
    "depDf = pd.read_csv(\"../data/raw/departments.csv\")\n",
    "aisleDf = pd.read_csv(\"../data/raw/aisles.csv\")\n",
    "productDf = pd.read_csv(\"../data/raw/products.csv\")"
   ]
  },
  {
   "cell_type": "code",
   "execution_count": 4,
   "metadata": {},
   "outputs": [
    {
     "data": {
      "text/plain": [
       "(3421083, 7)"
      ]
     },
     "execution_count": 4,
     "metadata": {},
     "output_type": "execute_result"
    }
   ],
   "source": [
    "orderDf.shape"
   ]
  },
  {
   "cell_type": "markdown",
   "metadata": {},
   "source": [
    "There are 3421083 orders, roughly 35 lakh orders"
   ]
  },
  {
   "cell_type": "code",
   "execution_count": 5,
   "metadata": {},
   "outputs": [
    {
     "data": {
      "text/plain": [
       "(49688, 4)"
      ]
     },
     "execution_count": 5,
     "metadata": {},
     "output_type": "execute_result"
    }
   ],
   "source": [
    "productDf.shape"
   ]
  },
  {
   "cell_type": "markdown",
   "metadata": {},
   "source": [
    "There are 49688 products, roughly 50000 products"
   ]
  },
  {
   "cell_type": "code",
   "execution_count": 27,
   "metadata": {
    "scrolled": true
   },
   "outputs": [
    {
     "data": {
      "image/png": "[encoded data removed]",
      "text/plain": [
       "<matplotlib.figure.Figure at 0x112cfe3d0>"
      ]
     },
     "metadata": {},
     "output_type": "display_data"
    }
   ],
   "source": [
    "#get distribution of number of orders per customer\n",
    "sns.set_style('whitegrid')\n",
    "customerNumOrderFrame = orderDf.groupby(\"user_id\",as_index = False)[\"order_number\"].max()\n",
    "num_bins = 10\n",
    "n, bins, patches = plt.hist(customerNumOrderFrame[\"order_number\"] , num_bins, normed=1, color='blue', alpha=0.5)\n",
    "mu = customerNumOrderFrame[\"order_number\"].mean()\n",
    "sigma = customerNumOrderFrame[\"order_number\"].std()"
   ]
  },
  {
   "cell_type": "markdown",
   "metadata": {},
   "source": [
    "Looking at the histogram it seems to be skewed and appropriate distribution will be an exponential function."
   ]
  },
  {
   "cell_type": "code",
   "execution_count": 29,
   "metadata": {},
   "outputs": [
    {
     "data": {
      "text/plain": [
       "Text(0.5,1,u'Number of Orders per Customer Distribution')"
      ]
     },
     "execution_count": 29,
     "metadata": {},
     "output_type": "execute_result"
    },
    {
     "data": {
      "image/png": "[encoded data removed]",
      "text/plain": [
       "<matplotlib.figure.Figure at 0x113305190>"
      ]
     },
     "metadata": {},
     "output_type": "display_data"
    }
   ],
   "source": [
    "n, bins, patches = plt.hist(customerNumOrderFrame[\"order_number\"] , num_bins, normed=1, facecolor='yellow', alpha=0.5)\n",
    "\n",
    "bins = np.delete(bins,10) #to make dimensions of x & y axis values equal\n",
    "bins = bins+5 #to ge the central value of each bar\n",
    "\n",
    "def exponenial_func(x, a, b, c):\n",
    "    return a*np.exp(-b*x)+c\n",
    "\n",
    "popt, pcov = curve_fit(exponenial_func, bins, n, p0=(1, 1e-6, 1))\n",
    "\n",
    "xx = np.linspace(8, 100, 30)\n",
    "yy = exponenial_func(xx, *popt)\n",
    "\n",
    "plt.plot(xx, yy ,'r--')\n",
    "plt.xlabel(\"No. of Orders\")\n",
    "plt.ylabel(\"Count\")\n",
    "plt.title(\"Number of Orders per Customer Distribution\")"
   ]
  },
  {
   "cell_type": "markdown",
   "metadata": {},
   "source": [
    "Now to find the top frequently purchased products we will merge the prior and train dataset to get the complete order dataset. We will use append() for doing so."
   ]
  },
  {
   "cell_type": "code",
   "execution_count": 7,
   "metadata": {},
   "outputs": [],
   "source": [
    "priorDf = pd.read_csv(\"../data/raw/order_products__prior.csv\")\n",
    "trainDf = trainDf.append(priorDf,ignore_index = True)\n",
    "#Now a product count data frame can be created by counting the order_id for each product_id\n",
    "productCountDf = trainDf.groupby(\"product_id\",as_index = False)[\"order_id\"].count()"
   ]
  },
  {
   "cell_type": "code",
   "execution_count": 8,
   "metadata": {},
   "outputs": [
    {
     "data": {
      "text/plain": [
       "(49685, 2)"
      ]
     },
     "execution_count": 8,
     "metadata": {},
     "output_type": "execute_result"
    }
   ],
   "source": [
    "productCountDf.shape"
   ]
  },
  {
   "cell_type": "code",
   "execution_count": 17,
   "metadata": {},
   "outputs": [
    {
     "data": {
      "text/html": [
       "<div>\n",
       "<style scoped>\n",
       "    .dataframe tbody tr th:only-of-type {\n",
       "        vertical-align: middle;\n",
       "    }\n",
       "\n",
       "    .dataframe tbody tr th {\n",
       "        vertical-align: top;\n",
       "    }\n",
       "\n",
       "    .dataframe thead th {\n",
       "        text-align: right;\n",
       "    }\n",
       "</style>\n",
       "<table border=\"1\" class=\"dataframe\">\n",
       "  <thead>\n",
       "    <tr style=\"text-align: right;\">\n",
       "      <th></th>\n",
       "      <th>product_name</th>\n",
       "    </tr>\n",
       "  </thead>\n",
       "  <tbody>\n",
       "    <tr>\n",
       "      <th>0</th>\n",
       "      <td>Banana</td>\n",
       "    </tr>\n",
       "    <tr>\n",
       "      <th>1</th>\n",
       "      <td>Bag of Organic Bananas</td>\n",
       "    </tr>\n",
       "    <tr>\n",
       "      <th>2</th>\n",
       "      <td>Organic Strawberries</td>\n",
       "    </tr>\n",
       "    <tr>\n",
       "      <th>3</th>\n",
       "      <td>Organic Baby Spinach</td>\n",
       "    </tr>\n",
       "    <tr>\n",
       "      <th>4</th>\n",
       "      <td>Organic Hass Avocado</td>\n",
       "    </tr>\n",
       "    <tr>\n",
       "      <th>5</th>\n",
       "      <td>Organic Avocado</td>\n",
       "    </tr>\n",
       "    <tr>\n",
       "      <th>6</th>\n",
       "      <td>Large Lemon</td>\n",
       "    </tr>\n",
       "    <tr>\n",
       "      <th>7</th>\n",
       "      <td>Strawberries</td>\n",
       "    </tr>\n",
       "    <tr>\n",
       "      <th>8</th>\n",
       "      <td>Limes</td>\n",
       "    </tr>\n",
       "    <tr>\n",
       "      <th>9</th>\n",
       "      <td>Organic Whole Milk</td>\n",
       "    </tr>\n",
       "    <tr>\n",
       "      <th>10</th>\n",
       "      <td>Organic Raspberries</td>\n",
       "    </tr>\n",
       "    <tr>\n",
       "      <th>11</th>\n",
       "      <td>Organic Yellow Onion</td>\n",
       "    </tr>\n",
       "    <tr>\n",
       "      <th>12</th>\n",
       "      <td>Organic Garlic</td>\n",
       "    </tr>\n",
       "    <tr>\n",
       "      <th>13</th>\n",
       "      <td>Organic Zucchini</td>\n",
       "    </tr>\n",
       "    <tr>\n",
       "      <th>14</th>\n",
       "      <td>Organic Blueberries</td>\n",
       "    </tr>\n",
       "    <tr>\n",
       "      <th>15</th>\n",
       "      <td>Cucumber Kirby</td>\n",
       "    </tr>\n",
       "    <tr>\n",
       "      <th>16</th>\n",
       "      <td>Organic Fuji Apple</td>\n",
       "    </tr>\n",
       "    <tr>\n",
       "      <th>17</th>\n",
       "      <td>Organic Lemon</td>\n",
       "    </tr>\n",
       "    <tr>\n",
       "      <th>18</th>\n",
       "      <td>Organic Grape Tomatoes</td>\n",
       "    </tr>\n",
       "    <tr>\n",
       "      <th>19</th>\n",
       "      <td>Apple Honeycrisp Organic</td>\n",
       "    </tr>\n",
       "  </tbody>\n",
       "</table>\n",
       "</div>"
      ],
      "text/plain": [
       "                product_name\n",
       "0                     Banana\n",
       "1     Bag of Organic Bananas\n",
       "2       Organic Strawberries\n",
       "3       Organic Baby Spinach\n",
       "4       Organic Hass Avocado\n",
       "5            Organic Avocado\n",
       "6                Large Lemon\n",
       "7               Strawberries\n",
       "8                      Limes\n",
       "9         Organic Whole Milk\n",
       "10       Organic Raspberries\n",
       "11      Organic Yellow Onion\n",
       "12            Organic Garlic\n",
       "13          Organic Zucchini\n",
       "14       Organic Blueberries\n",
       "15            Cucumber Kirby\n",
       "16        Organic Fuji Apple\n",
       "17             Organic Lemon\n",
       "18    Organic Grape Tomatoes\n",
       "19  Apple Honeycrisp Organic"
      ]
     },
     "metadata": {},
     "output_type": "display_data"
    }
   ],
   "source": [
    "#Top 20 most frequently purchased products\n",
    "topLev = 20\n",
    "\n",
    "#Here order_id is the count so we need to sort the data frame w.r.t order_id\n",
    "productCountDf = productCountDf.sort_values(\"order_id\",ascending = False)\n",
    "\n",
    "topProdFrame = productCountDf.iloc[0:topLev,:]\n",
    "topProdFrame = topProdFrame.merge(productDf,on = \"product_id\")\n",
    "\n",
    "display(topProdFrame.loc[:,[\"product_name\"]])"
   ]
  },
  {
   "cell_type": "markdown",
   "metadata": {},
   "source": [
    "A density plot for product count can give an idea about to what extend we can perform smoothing of the dataset "
   ]
  },
  {
   "cell_type": "code",
   "execution_count": 10,
   "metadata": {},
   "outputs": [
    {
     "data": {
      "text/plain": [
       "Text(0,0.5,u'Density')"
      ]
     },
     "execution_count": 10,
     "metadata": {},
     "output_type": "execute_result"
    },
    {
     "data": {
      "image/png": "[encoded data removed]",
      "text/plain": [
       "<matplotlib.figure.Figure at 0x10ce54690>"
      ]
     },
     "metadata": {},
     "output_type": "display_data"
    }
   ],
   "source": [
    "#Calculate the density\n",
    "productCountDf[\"density\"] = (productCountDf[\"order_id\"]/np.sum(productCountDf[\"order_id\"]))\n",
    "#Calculate the rank\n",
    "productCountDf[\"rank\"] = range(productCountDf.shape[0])\n",
    "plt.plot(productCountDf[\"rank\"],productCountDf[\"density\"])\n",
    "plt.title(\"Density Plot for product counts\")\n",
    "plt.xlabel(\"Rank\")\n",
    "plt.ylabel(\"Density\")"
   ]
  },
  {
   "cell_type": "markdown",
   "metadata": {},
   "source": [
    "It is hard to interpret much from this graph due to wide-ranging ranks (0-50000), So we can go for logarthmic scale for better visualization"
   ]
  },
  {
   "cell_type": "code",
   "execution_count": 11,
   "metadata": {},
   "outputs": [
    {
     "data": {
      "text/plain": [
       "[<matplotlib.lines.Line2D at 0x10994b310>]"
      ]
     },
     "execution_count": 11,
     "metadata": {},
     "output_type": "execute_result"
    },
    {
     "data": {
      "image/png": "[encoded data removed]",
      "text/plain": [
       "<matplotlib.figure.Figure at 0x1100f1690>"
      ]
     },
     "metadata": {},
     "output_type": "display_data"
    }
   ],
   "source": [
    "#Calculate log(Rank) also we add 1 to avoid log(0)\n",
    "productCountDf[\"logRank\"] = np.log(productCountDf[\"rank\"] + 1) \n",
    "plt.title(\"Density Plot for product counts\")\n",
    "plt.xlabel(\"$\\log(Rank)$\")\n",
    "plt.ylabel(\"Density\")\n",
    "plt.plot(productCountDf[\"logRank\"],productCountDf[\"density\"])"
   ]
  },
  {
   "cell_type": "markdown",
   "metadata": {},
   "source": [
    "We can see a very steep distribuiton and we can perform smoothening on the sparse distribuition area. e^6 = 403 products define most of the distribution. Products lying under (e^6, e^12) range are not significant since their respective density is very less."
   ]
  },
  {
   "cell_type": "markdown",
   "metadata": {},
   "source": [
    "Days of Orders in a week"
   ]
  },
  {
   "cell_type": "code",
   "execution_count": 33,
   "metadata": {},
   "outputs": [
    {
     "data": {
      "image/png": "[encoded data removed]",
      "text/plain": [
       "<matplotlib.figure.Figure at 0x11d0cffd0>"
      ]
     },
     "metadata": {},
     "output_type": "display_data"
    }
   ],
   "source": [
    "grouped = orderDf.groupby(\"order_id\")[\"order_dow\"].aggregate(\"sum\").reset_index()\n",
    "grouped = grouped.order_dow.value_counts()\n",
    "\n",
    "sns.barplot(grouped.index, grouped.values)\n",
    "plt.ylabel('Number of orders', fontsize=13)\n",
    "plt.xlabel('Days of order in a week', fontsize=13)\n",
    "plt.show()\n"
   ]
  },
  {
   "cell_type": "markdown",
   "metadata": {},
   "source": [
    "Number of unique customers in the whole dataset-"
   ]
  },
  {
   "cell_type": "code",
   "execution_count": 36,
   "metadata": {},
   "outputs": [
    {
     "data": {
      "text/plain": [
       "206209"
      ]
     },
     "execution_count": 36,
     "metadata": {},
     "output_type": "execute_result"
    }
   ],
   "source": [
    "len(set(orderDf.user_id))"
   ]
  },
  {
   "cell_type": "code",
   "execution_count": null,
   "metadata": {},
   "outputs": [],
   "source": []
  }
 ],
 "metadata": {
  "kernelspec": {
   "display_name": "Python 2",
   "language": "python",
   "name": "python2"
  },
  "language_info": {
   "codemirror_mode": {
    "name": "ipython",
    "version": 2
   },
   "file_extension": ".py",
   "mimetype": "text/x-python",
   "name": "python",
   "nbconvert_exporter": "python",
   "pygments_lexer": "ipython2",
   "version": "2.7.10"
  }
 },
 "nbformat": 4,
 "nbformat_minor": 2
}
